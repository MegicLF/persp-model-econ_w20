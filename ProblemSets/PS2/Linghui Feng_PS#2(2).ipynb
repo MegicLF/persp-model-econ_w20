{
 "cells": [
  {
   "cell_type": "markdown",
   "metadata": {},
   "source": [
    "# 2. Numerical integration exercises"
   ]
  },
  {
   "cell_type": "code",
   "execution_count": 42,
   "metadata": {},
   "outputs": [],
   "source": [
    "import sympy as sy\n",
    "import numpy as np\n",
    "import scipy as sp\n",
    "import math\n",
    "from scipy import stats as st\n",
    "from matplotlib import pyplot as plt"
   ]
  },
  {
   "cell_type": "markdown",
   "metadata": {},
   "source": [
    "### Exercise 2.1"
   ]
  },
  {
   "cell_type": "code",
   "execution_count": 35,
   "metadata": {},
   "outputs": [],
   "source": [
    "def integration(g, a, b, N, method):\n",
    "    true_int = sy.integrate(g, (x, a, b))  # the true integration\n",
    "    \n",
    "    if 'midpoint' in method:  # use composite midpoint rule\n",
    "        midpoint_int = 0 \n",
    "        for i in range(N):\n",
    "            x_i = a + ((2 * i + 1) * (b - a)) / (2 * N)\n",
    "            midpoint_int += g.evalf(subs={x:x_i})\n",
    "        midpoint_int *= (b - a) / N\n",
    "\n",
    "    if 'trapezoid' in method:  # use composite trapezoid rule\n",
    "        trapezoid_int = 0\n",
    "        for i in range(N+1):\n",
    "            x_i = a + i * (b - a) / N\n",
    "            if i == 0:\n",
    "                trapezoid_int += g.evalf(subs={x:x_i})\n",
    "            elif i == N:\n",
    "                trapezoid_int += g.evalf(subs={x:x_i})\n",
    "            else:\n",
    "                trapezoid_int += 2 * g.evalf(subs={x:x_i})\n",
    "        trapezoid_int *= (b - a) / (2 * N)\n",
    "    \n",
    "    if 'Simpsons' in method:  # use composite Simpsons' rule\n",
    "        simpsons_int = 0\n",
    "        for i in range(2*N+1):\n",
    "            x_i = a + i * (b - a) / (2 * N)\n",
    "            if i == 0 :\n",
    "                simpsons_int += g.evalf(subs={x:x_i})\n",
    "            elif i == 2 * N:\n",
    "                simpsons_int += g.evalf(subs={x:x_i})\n",
    "            elif i % 2 != 0:\n",
    "                simpsons_int += 4 * g.evalf(subs={x:x_i})\n",
    "            else:\n",
    "                simpsons_int += 2 * g.evalf(subs={x:x_i})\n",
    "        simpsons_int *= (b - a) / (6 * N)\n",
    "    \n",
    "    diff_midpoint = abs(midpoint_int - true_int)\n",
    "    diff_trapezoid = abs(trapezoid_int - true_int)\n",
    "    diff_simpsons = abs(simpsons_int - true_int)\n",
    "    \n",
    "    return diff_midpoint, diff_trapezoid, diff_simpsons"
   ]
  },
  {
   "cell_type": "code",
   "execution_count": 37,
   "metadata": {},
   "outputs": [
    {
     "data": {
      "image/png": "[encoded data removed]",
      "text/plain": [
       "<Figure size 432x288 with 1 Axes>"
      ]
     },
     "metadata": {
      "needs_background": "light"
     },
     "output_type": "display_data"
    }
   ],
   "source": [
    "x = sy.symbols('x')\n",
    "g = 0.1 * x ** 4 - 1.5 * x ** 3 + 0.53 * x ** 2 + 2 * x + 1\n",
    "gx = sy.lambdify(x, g)\n",
    "\n",
    "a = -10\n",
    "b = 10\n",
    "method = {'midpoint', 'trapezoid', 'Simpsons'}\n",
    "error_mp = []\n",
    "error_tp = []\n",
    "error_sp = []\n",
    "Nvec = np.arange(20, 201, 1)\n",
    "for N in Nvec:\n",
    "    mp, tp, sp = integration(g, a, b, N, method)\n",
    "    error_mp.append(mp)\n",
    "    error_tp.append(tp)\n",
    "    error_sp.append(sp)\n",
    "\n",
    "# plot\n",
    "Nvec = np.arange(20, 201, 1)\n",
    "plt.plot(Nvec, error_mp, label='midpoint')\n",
    "plt.plot(Nvec, error_tp, label='trapezoid')\n",
    "plt.plot(Nvec, error_sp, label='Simpsons')\n",
    "plt.xlabel('N')\n",
    "plt.ylabel('absolute error')\n",
    "plt.legend()\n",
    "plt.show()\n"
   ]
  },
  {
   "cell_type": "code",
   "execution_count": 38,
   "metadata": {},
   "outputs": [
    {
     "data": {
      "image/png": "[encoded data removed]",
      "text/plain": [
       "<Figure size 432x288 with 1 Axes>"
      ]
     },
     "metadata": {
      "needs_background": "light"
     },
     "output_type": "display_data"
    }
   ],
   "source": [
    "x_vec = np.arange(-10, 10)\n",
    "plt.clf()\n",
    "plt.plot(x_vec, gx(x_vec))\n",
    "plt.show()"
   ]
  },
  {
   "cell_type": "markdown",
   "metadata": {},
   "source": [
    "From this graph, we can tell that because g(x) changes very fase when x increases to 10 from -10.\n",
    "So more points to rely on, the approximation should be more accurate."
   ]
  },
  {
   "cell_type": "markdown",
   "metadata": {},
   "source": [
    "### Exercise 2.2"
   ]
  },
  {
   "cell_type": "code",
   "execution_count": 5,
   "metadata": {},
   "outputs": [],
   "source": [
    "def newton_cotes(mean, sd, N, k):\n",
    "    Z = np.linspace(mean - sd * k, mean + sd * k, N)   # generally N equally spaced node\n",
    "    w = []\n",
    "    w_i = 0.0\n",
    "    for i in range(0, N):\n",
    "        if i == 1:\n",
    "            w_i = st.norm.cdf((Z[i]+Z[i+1])/2, mean, sd)\n",
    "        elif i == N-1:\n",
    "            w_i = 1 - st.norm.cdf((Z[i-1]+Z[i])/2, mean, sd)\n",
    "        else:\n",
    "            w_i = st.norm.cdf((Z[i]+Z[i+1])/2, mean, sd) - st.norm.cdf((Z[i-1]+Z[i])/2, mean, sd)\n",
    "        w.append(w_i)\n",
    "    return Z, w"
   ]
  },
  {
   "cell_type": "code",
   "execution_count": 6,
   "metadata": {},
   "outputs": [
    {
     "name": "stdout",
     "output_type": "stream",
     "text": [
      "The nodes are: [0.5 1.4 2.3 3.2 4.1 5.  5.9 6.8 7.7 8.6 9.5]\n",
      "The weights are: [-0.4965330261969593, 0.017864420562816542, 0.04894278070604153, 0.1172529240779014, 0.19802845246428785, 0.23582284437790535, 0.1980284524642878, 0.11725292407790144, 0.04894278070604152, 0.014397446759775945, 0.0034669738030406183]\n"
     ]
    }
   ],
   "source": [
    "mean = 5\n",
    "sd = 1.5\n",
    "N = 11\n",
    "k = 3\n",
    "\n",
    "Z, w = newton_cotes(mean, sd, N, k)\n",
    "\n",
    "print(\"The nodes are: {}\".format(Z))\n",
    "print(\"The weights are: {}\".format(w))"
   ]
  },
  {
   "cell_type": "markdown",
   "metadata": {},
   "source": [
    "### Exercise 2.3"
   ]
  },
  {
   "cell_type": "code",
   "execution_count": 7,
   "metadata": {},
   "outputs": [],
   "source": [
    "def lognormal(mean, sd, N, k):\n",
    "    Z, w = newton_cotes(mean, sd, N, k)\n",
    "    A = np.exp(Z)\n",
    "    return A, w"
   ]
  },
  {
   "cell_type": "code",
   "execution_count": 8,
   "metadata": {},
   "outputs": [
    {
     "name": "stdout",
     "output_type": "stream",
     "text": [
      "The nodes are: [1.64872127e+00 4.05519997e+00 9.97418245e+00 2.45325302e+01\n",
      " 6.03402876e+01 1.48413159e+02 3.65037468e+02 8.97847292e+02\n",
      " 2.20834799e+03 5.43165959e+03 1.33597268e+04]\n",
      "The weights are: [-0.4965330261969593, 0.017864420562816542, 0.04894278070604153, 0.1172529240779014, 0.19802845246428785, 0.23582284437790535, 0.1980284524642878, 0.11725292407790144, 0.04894278070604152, 0.014397446759775945, 0.0034669738030406183]\n"
     ]
    }
   ],
   "source": [
    "mean = 5\n",
    "sd = 1.5\n",
    "N = 11\n",
    "k = 3\n",
    "\n",
    "Z, w = lognormal(mean, sd, N, k)\n",
    "\n",
    "print(\"The nodes are: {}\".format(Z))\n",
    "print(\"The weights are: {}\".format(w))"
   ]
  },
  {
   "cell_type": "markdown",
   "metadata": {},
   "source": [
    "### Exercise 2.4"
   ]
  },
  {
   "cell_type": "code",
   "execution_count": 9,
   "metadata": {},
   "outputs": [],
   "source": [
    "def approx(mean, sd, N, k):\n",
    "    # calculate the approximation using function from Ex.2.3\n",
    "    A, w = lognormal(mean, sd, N, k)\n",
    "    approx = sum(A*w)\n",
    "    return approx\n",
    "\n",
    "def exact(mean, sd, N, k):\n",
    "    # calculate the exact value \n",
    "    exact = sy.exp(mean + sd**2/2)\n",
    "    return exact"
   ]
  },
  {
   "cell_type": "code",
   "execution_count": 10,
   "metadata": {},
   "outputs": [
    {
     "name": "stdout",
     "output_type": "stream",
     "text": [
      "My approximation is 48723.68068950486, and the exact expected value is 50011.0870085218. Their difference is 1287.40631901690.\n"
     ]
    }
   ],
   "source": [
    "mean = 10.5\n",
    "sd = 0.8\n",
    "N = 11\n",
    "k = 3\n",
    "\n",
    "approx = approx(mean, sd, N, k)\n",
    "exact = exact(mean, sd, N, k)\n",
    "difference = exact - approx\n",
    "\n",
    "print(\"My approximation is {}, and the exact expected value is {}. Their difference is {}.\".format(approx, exact, difference))"
   ]
  },
  {
   "cell_type": "markdown",
   "metadata": {},
   "source": [
    "### Exercise 3.1"
   ]
  },
  {
   "cell_type": "code",
   "execution_count": 43,
   "metadata": {},
   "outputs": [],
   "source": [
    "# Approximate the integral using Gaussian quadrature with 𝑁=3\n",
    "# ℎ_𝑖(𝑥)=𝑥**𝑖\n",
    "def funct(x0, N):\n",
    "    functs = []\n",
    "    w = x0[:N]\n",
    "    x = x0[N:]\n",
    "    for i in range(2*N):\n",
    "        f = 0\n",
    "        for j in range(N):\n",
    "            f += w[j] * (x[j] ** i)\n",
    "        f = (1 / (i + 1)) * (b ** (i + 1) - a ** (i + 1)) - f \n",
    "        functs.append(f)\n",
    "    return functs\n",
    "    \n",
    "def gaussian(N, a, b, g):\n",
    "    w_init = [1 / N for i in range(N)]\n",
    "    x_init = [0 for i in range(N)]\n",
    "    initial_guess = w_init + x_init\n",
    "    root = sp.optimize.root(funct, initial_guess, N).x\n",
    "    w = root[:N]\n",
    "    x = root[N:]\n",
    "    integral = 0\n",
    "    for j in range(N):\n",
    "        integral += w[j] * g(x[j])\n",
    "    return integral"
   ]
  },
  {
   "cell_type": "code",
   "execution_count": 44,
   "metadata": {},
   "outputs": [
    {
     "data": {
      "text/plain": [
       "4373.333334806006"
      ]
     },
     "execution_count": 44,
     "metadata": {},
     "output_type": "execute_result"
    }
   ],
   "source": [
    "x = sy.symbols('x')\n",
    "g = 0.1 * x ** 4 + (-1.5) * x ** 3 + 0.53 * x ** 2 + 2 * x + 1\n",
    "gx = sy.lambdify(x, g)\n",
    "\n",
    "N = 3\n",
    "a = -10\n",
    "b = 10\n",
    "\n",
    "gauss = gaussian(N, a, b, gx)\n",
    "gauss"
   ]
  },
  {
   "cell_type": "code",
   "execution_count": 45,
   "metadata": {},
   "outputs": [
    {
     "data": {
      "text/plain": [
       "1.4726729204994626e-06"
      ]
     },
     "execution_count": 45,
     "metadata": {},
     "output_type": "execute_result"
    }
   ],
   "source": [
    "# This value comes from Exercise 2.1\n",
    "true = 4373 + (1 / 3)\n",
    "error_gauss = abs(true - gauss)\n",
    "error_gauss"
   ]
  },
  {
   "cell_type": "code",
   "execution_count": 46,
   "metadata": {},
   "outputs": [
    {
     "data": {
      "text/plain": [
       "(58.6248395416660, 117.342502333333, 0.0309410833342554)"
      ]
     },
     "execution_count": 46,
     "metadata": {},
     "output_type": "execute_result"
    }
   ],
   "source": [
    "method = {'midpoint', 'trapezoid', 'Simpsons'}\n",
    "integration(g, N, a, b, method)"
   ]
  },
  {
   "cell_type": "markdown",
   "metadata": {},
   "source": [
    "We know the absolute errors for midpoint rule, trapezoid rule, and Simpsons' rule are 58.625, 117.343 and 0.0309, respectively. So this approximated integral is more accurate than the approximations using the midpoint rule, trapezoid rule, and Simpson's rule. The approximated integral using Gaussian quadrature is nearly the same as the true analytical value of the integral."
   ]
  },
  {
   "cell_type": "markdown",
   "metadata": {},
   "source": [
    "### Exercise 3.2"
   ]
  },
  {
   "cell_type": "code",
   "execution_count": 48,
   "metadata": {},
   "outputs": [
    {
     "data": {
      "text/plain": [
       "(4373.333333333334, 8.109531705284936e-11)"
      ]
     },
     "execution_count": 48,
     "metadata": {},
     "output_type": "execute_result"
    }
   ],
   "source": [
    "g_x = lambda x: 0.1 * x ** 4 - 1.5 * x ** 3 + 0.53 * x ** 2 + 2 * x + 1\n",
    "sp.integrate.quad(g_x, -10, 10)"
   ]
  },
  {
   "cell_type": "code",
   "execution_count": 49,
   "metadata": {},
   "outputs": [
    {
     "data": {
      "text/plain": [
       "4373.33333333333"
      ]
     },
     "execution_count": 49,
     "metadata": {},
     "output_type": "execute_result"
    }
   ],
   "source": [
    "sy.integrate(g, (x, -10, 10))  # the analytical value"
   ]
  },
  {
   "cell_type": "code",
   "execution_count": 51,
   "metadata": {},
   "outputs": [
    {
     "data": {
      "text/plain": [
       "1.81898940354586e-12"
      ]
     },
     "execution_count": 51,
     "metadata": {},
     "output_type": "execute_result"
    }
   ],
   "source": [
    "# difference between this approximated valued and the analytical value \n",
    "sp.integrate.quad(g_x, -10, 10)[0] - sy.integrate(g, (x, -10, 10))"
   ]
  },
  {
   "cell_type": "markdown",
   "metadata": {},
   "source": [
    "Compared the approximated integral with the analytical value of the integral, we can tell that they are nearly the same, and the difference is too small to be recognized."
   ]
  },
  {
   "cell_type": "markdown",
   "metadata": {},
   "source": [
    "### Exercise 4.1"
   ]
  },
  {
   "cell_type": "code",
   "execution_count": 67,
   "metadata": {},
   "outputs": [],
   "source": [
    "np.random.seed(25)\n",
    "\n",
    "def Monte_Carlo(g, Omega, N):\n",
    "    x_l, x_u = Omega[0]\n",
    "    y_l, y_u = Omega[1]\n",
    "    x = np.random.uniform(x_l, x_u, N)\n",
    "    y = np.random.uniform(y_l, y_u, N)\n",
    "    pt_count = 0\n",
    "    for i in range(N):\n",
    "        if g(x[i], y[i]) <= 1:\n",
    "            pt_count += 1\n",
    "    area = (x_u - x_l) * (y_u - y_l)\n",
    "    return (pt_count / N) * area"
   ]
  },
  {
   "cell_type": "code",
   "execution_count": 68,
   "metadata": {},
   "outputs": [
    {
     "name": "stdout",
     "output_type": "stream",
     "text": [
      "The smallest number of random draws N should be 615\n"
     ]
    }
   ],
   "source": [
    "N = 1\n",
    "x = sy.symbols('x')\n",
    "y = sy.symbols('y')\n",
    "g = lambda x, y: x ** 2 + y ** 2\n",
    "Omega = np.array([[-1, 1], [-1, 1]])\n",
    "\n",
    "while round(Monte_Carlo(g, Omega, N), 4) != 3.1415:\n",
    "    N += 1\n",
    "print(\"The smallest number of random draws N should be {}\".format(N))"
   ]
  },
  {
   "cell_type": "markdown",
   "metadata": {},
   "source": [
    "### Exercise 4.2"
   ]
  },
  {
   "cell_type": "code",
   "execution_count": 54,
   "metadata": {},
   "outputs": [],
   "source": [
    "# These functions come from the notebook of numerical integration\n",
    "def isPrime(n):\n",
    "    '''\n",
    "    --------------------------------------------------------------------\n",
    "    This function returns a boolean indicating whether an integer n is a\n",
    "    prime number\n",
    "    --------------------------------------------------------------------\n",
    "    INPUTS:\n",
    "    n = scalar, any scalar value\n",
    "\n",
    "    OTHER FUNCTIONS AND FILES CALLED BY THIS FUNCTION: None\n",
    "\n",
    "    OBJECTS CREATED WITHIN FUNCTION:\n",
    "    i = integer in [2, sqrt(n)]\n",
    "\n",
    "    FILES CREATED BY THIS FUNCTION: None\n",
    "\n",
    "    RETURN: boolean\n",
    "    --------------------------------------------------------------------\n",
    "    '''\n",
    "    for i in range(2, int(np.sqrt(n) + 1)):\n",
    "        if n % i == 0:\n",
    "            return False\n",
    "\n",
    "    return True\n",
    "\n",
    "\n",
    "def primes_ascend(N, min_val=2):\n",
    "    '''\n",
    "    --------------------------------------------------------------------\n",
    "    This function generates an ordered sequence of N consecutive prime\n",
    "    numbers, the smallest of which is greater than or equal to 1 using\n",
    "    the Sieve of Eratosthenes algorithm.\n",
    "    (https://en.wikipedia.org/wiki/Sieve_of_Eratosthenes)\n",
    "    --------------------------------------------------------------------\n",
    "    INPUTS:\n",
    "    N       = integer, number of elements in sequence of consecutive\n",
    "              prime numbers\n",
    "    min_val = scalar >= 2, the smallest prime number in the consecutive\n",
    "              sequence must be greater-than-or-equal-to this value\n",
    "\n",
    "    OTHER FUNCTIONS AND FILES CALLED BY THIS FUNCTION:\n",
    "        isPrime()\n",
    "\n",
    "    OBJECTS CREATED WITHIN FUNCTION:\n",
    "    primes_vec     = (N,) vector, consecutive prime numbers greater than\n",
    "                     min_val\n",
    "    MinIsEven      = boolean, =True if min_val is even, =False otherwise\n",
    "    MinIsGrtrThn2  = boolean, =True if min_val is\n",
    "                     greater-than-or-equal-to 2, =False otherwise\n",
    "    curr_prime_ind = integer >= 0, running count of prime numbers found\n",
    "\n",
    "    FILES CREATED BY THIS FUNCTION: None\n",
    "\n",
    "    RETURN: primes_vec\n",
    "    --------------------------------------------------------------------\n",
    "    '''\n",
    "    primes_vec = np.zeros(N, dtype=int)\n",
    "    MinIsEven = 1 - min_val % 2\n",
    "    MinIsGrtrThn2 = min_val > 2\n",
    "    curr_prime_ind = 0\n",
    "    if not MinIsGrtrThn2:\n",
    "        i = 2\n",
    "        curr_prime_ind += 1\n",
    "        primes_vec[0] = i\n",
    "    i = min(3, min_val + (MinIsEven * 1))\n",
    "    while curr_prime_ind < N:\n",
    "        if isPrime(i):\n",
    "            curr_prime_ind += 1\n",
    "            primes_vec[curr_prime_ind - 1] = i\n",
    "        i += 2\n",
    "\n",
    "    return primes_vec"
   ]
  },
  {
   "cell_type": "code",
   "execution_count": 55,
   "metadata": {},
   "outputs": [],
   "source": [
    "def equi_sequence(n, d, sequence):\n",
    "    primes = primes_ascend(d, min_val=2)\n",
    "    if sequence == 'Weyl':\n",
    "        weyl = n * np.sqrt(primes) - np.floor(n * np.sqrt(primes))\n",
    "        return weyl\n",
    "    if sequence == 'Haber':\n",
    "        haber = (n * (n + 1) / 2) * np.sqrt(primes) - np.floor((n * (n + 1) / 2) * np.sqrt(primes))\n",
    "        return haber\n",
    "    if sequence == \"Niederreiter\":\n",
    "        k = [i / (i + 1) for i in range(1, d+1)]\n",
    "        niederreiter = n * np.power(2, k) - np.floor(n * np.power(2, k))\n",
    "        return niederreiter\n",
    "    if sequence == \"Baker\":\n",
    "        r = [1 / j for j in range(1, d+1)]\n",
    "        baker = n * np.exp(r) - np.floor(n * np.exp(r)) \n",
    "        return baker"
   ]
  },
  {
   "cell_type": "code",
   "execution_count": 56,
   "metadata": {},
   "outputs": [
    {
     "name": "stdout",
     "output_type": "stream",
     "text": [
      "Weyl: [0.28427125 0.64101615 0.72135955 0.91502622 0.33249581]\n",
      "Haber: [0.9848481  0.73066959 0.57427527 0.60777532 0.49120597]\n",
      "Niederreiter: [0.28427125 0.74802104 0.63585661 0.82202253 0.63594873]\n",
      "Baker: [0.36563657 0.97442541 0.9122485  0.68050833 0.42805516]\n"
     ]
    }
   ],
   "source": [
    "n = 20\n",
    "d = 5\n",
    "\n",
    "print(\"Weyl: {}\".format(equi_sequence(n, d, 'Weyl')))\n",
    "print(\"Haber: {}\".format(equi_sequence(n, d, 'Haber')))\n",
    "print(\"Niederreiter: {}\".format(equi_sequence(n, d, 'Niederreiter')))\n",
    "print(\"Baker: {}\".format(equi_sequence(n, d, 'Baker')))"
   ]
  },
  {
   "cell_type": "markdown",
   "metadata": {},
   "source": [
    "### Exercise 4.3"
   ]
  },
  {
   "cell_type": "code",
   "execution_count": 69,
   "metadata": {},
   "outputs": [],
   "source": [
    "np.random.seed(seed=25)\n",
    "\n",
    "def quasi_MC(g, Omega, N, sequence):\n",
    "    x_l, x_u = Omega[0]\n",
    "    y_l, y_u = Omega[1]\n",
    "    if sequence == \"Weyl\":\n",
    "        x = [(x_u - x_l) * equi_sequence(i, 2, 'Weyl')[0] - 1 for i in range(1, N+1)]\n",
    "        y = [(y_u - y_l) * equi_sequence(i, 2, 'Weyl')[1] - 1 for i in range(1, N+1)]\n",
    "    if sequence == \"Haber\":\n",
    "        x = [(x_u - x_l) * equi_sequence(i, 2, 'Haber')[0] - 1 for i in range(1, N+1)]\n",
    "        y = [(y_u - y_l) * equi_sequence(i, 2, 'Haber')[1] - 1 for i in range(1, N+1)]\n",
    "    if sequence == \"Niederreiter\":\n",
    "        x = [(x_u - x_l) * equi_sequence(i, 2, 'Niederreiter')[0] - 1 for i in range(1, N+1)]\n",
    "        y = [(y_u - y_l) * equi_sequence(i, 2, 'Niederreiter')[1] - 1 for i in range(1, N+1)]\n",
    "    if sequence == \"Baker\":\n",
    "        x = [(x_u - x_l) * equi_sequence(i, 2, 'Baker')[0] - 1 for i in range(1, N+1)]\n",
    "        y = [(y_u - y_l) * equi_sequence(i, 2, 'Baker')[1] - 1 for i in range(1, N+1)]\n",
    "    pt_count = 0\n",
    "    for i in range(N):\n",
    "        if g(x[i], y[i]) <= 1:\n",
    "            pt_count += 1\n",
    "    area = (x_u - x_l) * (y_u - y_l)\n",
    "    return (pt_count / N) * area"
   ]
  },
  {
   "cell_type": "code",
   "execution_count": 70,
   "metadata": {},
   "outputs": [
    {
     "name": "stdout",
     "output_type": "stream",
     "text": [
      "The smallest number of random draws N of Weyl should be 1244\n"
     ]
    }
   ],
   "source": [
    "x = sy.symbols('x')\n",
    "y = sy.symbols('y')\n",
    "g = lambda x, y: x ** 2 + y ** 2\n",
    "Omega = np.array([[-1, 1], [-1, 1]])\n",
    "\n",
    "N = 1\n",
    "while round(quasi_MC(g, Omega, N, 'Weyl'), 4) != 3.1415:\n",
    "    N += 1\n",
    "print(\"The smallest number of random draws N of Weyl should be {}\".format(N))"
   ]
  },
  {
   "cell_type": "code",
   "execution_count": 71,
   "metadata": {},
   "outputs": [
    {
     "name": "stdout",
     "output_type": "stream",
     "text": [
      "The smallest number of random draws N of Haber should be 2078\n"
     ]
    }
   ],
   "source": [
    "N = 1\n",
    "while round(quasi_MC(g, Omega, N, 'Haber'), 4) != 3.1415:\n",
    "    N += 1\n",
    "print(\"The smallest number of random draws N of Haber should be {}\".format(N))"
   ]
  },
  {
   "cell_type": "code",
   "execution_count": 72,
   "metadata": {},
   "outputs": [
    {
     "name": "stdout",
     "output_type": "stream",
     "text": [
      "The smallest number of random draws N of Niederreiter should be 643\n"
     ]
    }
   ],
   "source": [
    "N = 1\n",
    "while round(quasi_MC(g, Omega, N, 'Niederreiter'), 4) != 3.1415:\n",
    "    N += 1\n",
    "print(\"The smallest number of random draws N of Niederreiter should be {}\".format(N))"
   ]
  },
  {
   "cell_type": "code",
   "execution_count": 73,
   "metadata": {},
   "outputs": [
    {
     "name": "stdout",
     "output_type": "stream",
     "text": [
      "The smallest number of random draws N of Baker should be 205\n"
     ]
    }
   ],
   "source": [
    "N = 1\n",
    "while round(quasi_MC(g, Omega, N, 'Baker'), 4) != 3.1415:\n",
    "    N += 1\n",
    "print(\"The smallest number of random draws N of Baker should be {}\".format(N))"
   ]
  },
  {
   "cell_type": "markdown",
   "metadata": {},
   "source": [
    "Compare the rates of convergence (from faster to slower):\n",
    "    Baker, Niederreiter, Weyl, Haber"
   ]
  },
  {
   "cell_type": "code",
   "execution_count": null,
   "metadata": {},
   "outputs": [],
   "source": []
  }
 ],
 "metadata": {
  "kernelspec": {
   "display_name": "Python 3",
   "language": "python",
   "name": "python3"
  },
  "language_info": {
   "codemirror_mode": {
    "name": "ipython",
    "version": 3
   },
   "file_extension": ".py",
   "mimetype": "text/x-python",
   "name": "python",
   "nbconvert_exporter": "python",
   "pygments_lexer": "ipython3",
   "version": "3.7.1"
  }
 },
 "nbformat": 4,
 "nbformat_minor": 2
}
