{
 "cells": [
  {
   "cell_type": "code",
   "execution_count": 31,
   "metadata": {},
   "outputs": [],
   "source": [
    "import numpy as np\n",
    "import numpy.linalg as lin\n",
    "import scipy.stats as sts\n",
    "import scipy.integrate as intgr\n",
    "import scipy.optimize as opt\n",
    "import matplotlib.pyplot as plt\n",
    "import pandas as pd"
   ]
  },
  {
   "cell_type": "markdown",
   "metadata": {},
   "source": [
    "### Problem 1"
   ]
  },
  {
   "cell_type": "code",
   "execution_count": 32,
   "metadata": {},
   "outputs": [
    {
     "data": {
      "text/plain": [
       "array([ 53711.54439888,  99731.23334901,  84773.60541676,  75184.025931  ,\n",
       "        73390.9559334 ,  77276.56474964,  82597.32702898,  76098.11372822,\n",
       "        91850.97696668,  71750.0904012 ,  78839.14719934,  76488.842497  ,\n",
       "        98425.21508839,  89179.46995662,  69270.14146077,  98745.58813476,\n",
       "        99678.12106606, 130562.89791757,  96611.47162489, 107722.74557525,\n",
       "        89815.6930569 ,  64096.00766797, 100953.33883423, 139079.35154872,\n",
       "        56620.60756267,  93887.32671771,  54443.1018241 ,  72214.43571941,\n",
       "        85334.16381855,  78259.71280733,  83023.40314506,  88219.63714926,\n",
       "        87329.86039444,  89740.87145837,  71486.02524282,  55951.62544771,\n",
       "        66967.80460396,  85265.54454384, 126226.62999114, 110291.25329238,\n",
       "        81804.83284175,  72162.4456693 ,  68229.92749973,  86750.35322317,\n",
       "       118823.56074404, 108877.93206918,  64915.4289308 , 100934.6283851 ,\n",
       "        64519.54919916,  65975.57876619, 111441.88321069,  68291.50073029,\n",
       "        65405.50677863,  81271.06211098,  68266.6245694 ,  59772.81905086,\n",
       "        77885.52686289, 107701.31155103, 127130.06841872,  47628.56063612,\n",
       "        75968.91637072,  62587.77909837,  50550.6694123 ,  80887.96130651,\n",
       "        93855.05308739,  80342.71081485,  84481.5704707 , 109927.17888187,\n",
       "       100327.01590179,  71212.00764784,  62957.38849747,  76839.52981751,\n",
       "       104593.82994724,  83699.05296765,  99237.42459733,  79691.13901202,\n",
       "        95748.47366171,  90192.55539028,  78260.66607186,  75685.8606735 ,\n",
       "        66890.93073991,  64010.4298983 , 117890.50271996,  60070.16241545,\n",
       "        65843.76004823, 107172.29805274,  83655.77659172,  71665.6956718 ,\n",
       "        91309.69364071,  72518.84512126,  87311.99668535,  78351.94052003,\n",
       "        60752.55220277, 115387.81762639,  94504.60048865, 107008.22136773,\n",
       "        87791.55608375,  83686.36833079, 109339.17021292, 112064.34306076,\n",
       "        75119.15326623,  49812.95251305,  67375.85586057,  94810.82823602,\n",
       "        74538.629972  , 127699.16409422,  92666.2076823 ,  77611.79861624,\n",
       "        73135.22273524,  90029.70114905,  86865.89590539,  70210.76675167,\n",
       "        69446.97549445,  75421.35356992, 101451.43123367,  88768.6317559 ,\n",
       "        77395.20696398,  67068.98367332, 123655.15095391,  82367.39314627,\n",
       "       103239.98736227, 120756.41227052,  95840.81428146, 113504.56501785,\n",
       "        71883.71409924,  85870.60501343,  84375.72912671,  72682.66037916,\n",
       "        70737.36585809, 112484.1634938 ,  48263.15561574,  63231.10688171,\n",
       "        81651.10375455,  71609.02389438,  62336.20408692, 126436.08198166,\n",
       "        86619.97410597,  85476.8351135 , 100054.12244473,  87286.85055109,\n",
       "        88456.03931538,  91236.00481594,  92363.66387514,  83655.12981714,\n",
       "        87433.39654965,  66262.26052225,  86894.81839207,  83670.22110911,\n",
       "        91811.29783788,  68230.18857888,  69994.87242307, 124152.39327218,\n",
       "       105064.46156173,  98711.45434108, 105248.47285287,  79925.27853415,\n",
       "        66413.62305991,  78936.88506916,  76800.21266509,  79675.90083131,\n",
       "       106644.00545052,  74397.46789976,  84029.83615306,  65334.51668787,\n",
       "        62679.70203426, 101382.39252632,  79554.0495238 ,  93965.8019454 ,\n",
       "        88859.49396128,  73213.02853657,  55838.03628834, 100071.66591515,\n",
       "        88682.78289878, 128202.38939724,  90676.66272882,  78303.01022226,\n",
       "        58403.02981616,  91797.17038642,  99093.92945474,  94534.46070525,\n",
       "        92670.35192127,  60263.39871921,  80944.40376289, 101240.825074  ,\n",
       "       105545.62342913,  85004.8717611 ,  95876.16955718,  77390.034127  ,\n",
       "        94830.18712331,  98796.99600858,  90368.48889796,  65585.46697009,\n",
       "        80482.7947653 ,  69415.39919258,  69486.44268098, 109348.21528112,\n",
       "        89516.26616718,  84049.09619362,  81888.82849408,  99112.05465565])"
      ]
     },
     "execution_count": 32,
     "metadata": {},
     "output_type": "execute_result"
    }
   ],
   "source": [
    "incomes = np.loadtxt(\"incomes.txt\")\n",
    "incomes"
   ]
  },
  {
   "cell_type": "markdown",
   "metadata": {},
   "source": [
    "#### (a)"
   ]
  },
  {
   "cell_type": "code",
   "execution_count": 33,
   "metadata": {},
   "outputs": [
    {
     "data": {
      "image/png": "[encoded data removed]",
      "text/plain": [
       "<Figure size 432x288 with 1 Axes>"
      ]
     },
     "metadata": {
      "needs_background": "light"
     },
     "output_type": "display_data"
    }
   ],
   "source": [
    "num_bins = 30\n",
    "count, bins, ignored = plt.hist(incomes, num_bins, density=True, edgecolor='k')\n",
    "plt.title('Annual incomes of students in MACSS', fontsize=20)\n",
    "plt.xlabel(r'Annual incomes')\n",
    "plt.ylabel(r'Percent of incomes')\n",
    "plt.show()"
   ]
  },
  {
   "cell_type": "markdown",
   "metadata": {},
   "source": [
    "#### (b)"
   ]
  },
  {
   "cell_type": "code",
   "execution_count": 34,
   "metadata": {},
   "outputs": [],
   "source": [
    "def trunc_lognorm_pdf(xvals, mu, sigma, cut_lb, cut_ub):\n",
    "    if cut_ub == 'None' and cut_lb == 'None':\n",
    "        prob_notcut = 1.0\n",
    "    elif cut_ub == 'None' and cut_lb != 'None':\n",
    "        prob_notcut = 1.0 - sts.lognorm.cdf(cut_lb, s = sigma, scale = np.exp(mu))\n",
    "    elif cut_ub != 'None' and cut_lb == 'None':\n",
    "        prob_notcut = sts.lognorm.cdf(cut_ub, s = sigma, scale = np.exp(mu))\n",
    "    elif cut_ub != 'None' and cut_lb != 'None':\n",
    "        prob_notcut = (sts.lognorm.cdf(cut_ub, s = sigma, scale = np.exp(mu)) -\n",
    "                       sts.lognorm.cdf(cut_lb, s = sigma, scale = np.exp(mu)))\n",
    "            \n",
    "    pdf_vals    = ((1/(xvals * sigma * np.sqrt(2 * np.pi)) *\n",
    "                    np.exp( - (np.log(xvals) - mu)**2 / (2 * sigma**2))) /\n",
    "                    prob_notcut)\n",
    "    \n",
    "    return pdf_vals"
   ]
  },
  {
   "cell_type": "code",
   "execution_count": 35,
   "metadata": {},
   "outputs": [],
   "source": [
    "def data_moments(xvals):\n",
    "    mean_data = xvals.mean()\n",
    "    std_data = xvals.std()\n",
    "    \n",
    "    return mean_data, std_data"
   ]
  },
  {
   "cell_type": "code",
   "execution_count": 36,
   "metadata": {},
   "outputs": [],
   "source": [
    "def model_moments(mu, sigma, cut_lb, cut_ub):\n",
    "    xfx = lambda x: x * trunc_lognorm_pdf(x, mu, sigma, cut_lb, cut_ub)\n",
    "    (mean_model, m_m_err) = intgr.quad(xfx, cut_lb, cut_ub)\n",
    "    x2fx = lambda x: ((x - mean_model) ** 2) * trunc_lognorm_pdf(x, mu, sigma, cut_lb, cut_ub) \n",
    "    (var_model, v_m_err) = intgr.quad(x2fx, cut_lb, cut_ub)\n",
    "    std_model = np.sqrt(var_model)\n",
    "    \n",
    "    return mean_model, std_model"
   ]
  },
  {
   "cell_type": "code",
   "execution_count": 37,
   "metadata": {},
   "outputs": [],
   "source": [
    "def err_vec(xvals, mu, sigma, cut_lb, cut_ub, simple):\n",
    "    mean_data, std_data = data_moments(xvals)\n",
    "    moms_data = np.array([[mean_data], [std_data]])\n",
    "    mean_model, std_model = model_moments(mu, sigma, cut_lb, cut_ub)\n",
    "    moms_model = np.array([[mean_model], [std_model]])\n",
    "    if simple:\n",
    "        err_vec = moms_model - moms_data\n",
    "    else:\n",
    "        err_vec = (moms_model - moms_data) / moms_data\n",
    "    \n",
    "    return err_vec"
   ]
  },
  {
   "cell_type": "code",
   "execution_count": 38,
   "metadata": {},
   "outputs": [],
   "source": [
    "def criterion(params, *args):\n",
    "    mu, sigma = params\n",
    "    xvals, cut_lb, cut_ub, W = args\n",
    "    err = err_vec(xvals, mu, sigma, cut_lb, cut_ub, simple=False)\n",
    "    crit_val = err.T @ W @ err\n",
    "    \n",
    "    return crit_val"
   ]
  },
  {
   "cell_type": "code",
   "execution_count": 39,
   "metadata": {},
   "outputs": [
    {
     "name": "stdout",
     "output_type": "stream",
     "text": [
      "mu_GMM1 = 11.33359961340107  sig_GMM1 = 0.21325529509280985\n"
     ]
    }
   ],
   "source": [
    "mu_init = 11.0\n",
    "sig_init = 0.5\n",
    "params_init = np.array([mu_init, sig_init])\n",
    "W_hat = np.eye(2)\n",
    "gmm_args = (incomes, 0.0, 150000.0, W_hat)\n",
    "results = opt.minimize(criterion, params_init, args=(gmm_args), tol=1e-14, method='L-BFGS-B',\n",
    "                       bounds=((1e-10, None), (1e-10, None)))\n",
    "mu_GMM1, sig_GMM1 = results.x\n",
    "print('mu_GMM1 =', mu_GMM1, ' sig_GMM1 =', sig_GMM1)"
   ]
  },
  {
   "cell_type": "code",
   "execution_count": 40,
   "metadata": {},
   "outputs": [
    {
     "name": "stdout",
     "output_type": "stream",
     "text": [
      "Mean of points = 85276.82360625811 , Standard deviation of points = 17992.542128046523\n",
      "Mean of model = 85276.82405854897 , Standard deviation of model = 17992.54168300948\n",
      "Error vector= [ 5.30379577e-09 -2.47345284e-08]\n",
      "GMM criterion function:  [[6.39927142e-16]]\n"
     ]
    }
   ],
   "source": [
    "mean_data, std_data = data_moments(incomes)\n",
    "mean_model, std_model = model_moments(mu_GMM1, sig_GMM1, 0.0, 150000.0)\n",
    "err1 = err_vec(incomes, mu_GMM1, sig_GMM1, 0.0, 150000.0, False).reshape(2,)\n",
    "print('Mean of points =', mean_data, ', Standard deviation of points =', std_data)\n",
    "print('Mean of model =', mean_model, ', Standard deviation of model =', std_model)\n",
    "print('Error vector=', err1)\n",
    "print('GMM criterion function: ', results.fun)"
   ]
  },
  {
   "cell_type": "markdown",
   "metadata": {},
   "source": [
    "We can tell that the data moments are nearly the same the model moments."
   ]
  },
  {
   "cell_type": "code",
   "execution_count": 41,
   "metadata": {},
   "outputs": [
    {
     "name": "stderr",
     "output_type": "stream",
     "text": [
      "D:\\Anaconda\\lib\\site-packages\\ipykernel_launcher.py:12: RuntimeWarning: divide by zero encountered in true_divide\n",
      "  if sys.path[0] == '':\n",
      "D:\\Anaconda\\lib\\site-packages\\ipykernel_launcher.py:13: RuntimeWarning: divide by zero encountered in log\n",
      "  del sys.path[0]\n",
      "D:\\Anaconda\\lib\\site-packages\\ipykernel_launcher.py:13: RuntimeWarning: invalid value encountered in multiply\n",
      "  del sys.path[0]\n"
     ]
    },
    {
     "data": {
      "image/png": "[encoded data removed]",
      "text/plain": [
       "<Figure size 432x288 with 1 Axes>"
      ]
     },
     "metadata": {
      "needs_background": "light"
     },
     "output_type": "display_data"
    }
   ],
   "source": [
    "# Plot the histogram of the data\n",
    "num_bins = 30\n",
    "count, bins, ignored = plt.hist(incomes, num_bins, density=True, edgecolor='k')\n",
    "plt.title('Annual incomes of students in MACSS', fontsize=20)\n",
    "plt.xlabel(r'Annual incomes')\n",
    "plt.ylabel(r'Percent of incomes')\n",
    "\n",
    "# Plot the estimated GMM PDF\n",
    "dist_pts = np.linspace(0.0, 150000.0, 3000)\n",
    "plt.plot(dist_pts, trunc_lognorm_pdf(dist_pts, mu_GMM1, sig_GMM1, 0.0, 150000.0),\n",
    "         linewidth=2, color='r', label='1: $\\mu_{GMM1}$,$\\sigma_{GMM1}$')\n",
    "plt.legend(loc='upper left')\n",
    "plt.show()"
   ]
  },
  {
   "cell_type": "markdown",
   "metadata": {},
   "source": [
    "#### (c)"
   ]
  },
  {
   "cell_type": "code",
   "execution_count": 42,
   "metadata": {},
   "outputs": [],
   "source": [
    "def get_Err_mat2(pts, mu, sigma, cut_lb, cut_ub, simple=False):\n",
    "    R = 2\n",
    "    N = len(pts)\n",
    "    Err_mat = np.zeros((R, N))\n",
    "    mean_model, std_model = model_moments(mu, sigma, cut_lb, cut_ub)\n",
    "    if simple:\n",
    "        Err_mat[0, :] = pts - mean_model\n",
    "        Err_mat[1, :] = ((mean_data - pts) ** 2) - std_model\n",
    "    else:\n",
    "        Err_mat[0, :] = (pts - mean_model) / mean_model\n",
    "        Err_mat[1, :] = (((mean_data - pts) ** 2) - std_model) / std_model\n",
    "    \n",
    "    return Err_mat"
   ]
  },
  {
   "cell_type": "code",
   "execution_count": 43,
   "metadata": {},
   "outputs": [
    {
     "name": "stdout",
     "output_type": "stream",
     "text": [
      "VCV2: [[4.45167060e-02 1.68385288e+03]\n",
      " [1.68385288e+03 9.54184437e+08]]\n",
      "W_hat2: [[ 2.40701668e+01 -4.24767141e-05]\n",
      " [-4.24767141e-05  1.12297423e-09]]\n"
     ]
    }
   ],
   "source": [
    "Err_mat = get_Err_mat2(incomes, mu_GMM1, sig_GMM1, 0.0, 150000.0, False)\n",
    "VCV2 = (1 / incomes.shape[0]) * (Err_mat @ Err_mat.T)\n",
    "print(\"VCV2: {}\".format(VCV2))\n",
    "W_hat2 = lin.inv(VCV2)\n",
    "print(\"W_hat2: {}\".format(W_hat2))"
   ]
  },
  {
   "cell_type": "code",
   "execution_count": 44,
   "metadata": {},
   "outputs": [
    {
     "name": "stdout",
     "output_type": "stream",
     "text": [
      "mu_GMM2= 11.33359961340107  sig_GMM2= 0.21325529509280985\n"
     ]
    }
   ],
   "source": [
    "params_init = np.array([mu_GMM1, sig_GMM1])\n",
    "gmm_args = (incomes, 0.0, 150000.0, W_hat2)\n",
    "results_2 = opt.minimize(criterion, params_init, args=(gmm_args),\n",
    "                       method='L-BFGS-B', bounds=((1e-10, None), (1e-10, None)))\n",
    "mu_GMM2, sig_GMM2 = results_2.x\n",
    "print('mu_GMM2=', mu_GMM2, ' sig_GMM2=', sig_GMM2)"
   ]
  },
  {
   "cell_type": "code",
   "execution_count": 45,
   "metadata": {},
   "outputs": [
    {
     "name": "stdout",
     "output_type": "stream",
     "text": [
      "Mean of points = 85276.82360625811 , Standard deviation of points = 17992.542128046523\n",
      "Mean of model = 85276.82405854897 , Standard deviation of model = 17992.54168300948\n",
      "Error vector= [ 5.30379577e-09 -2.47345284e-08]\n",
      "GMM criterion function:  [[6.77110945e-16]]\n"
     ]
    }
   ],
   "source": [
    "mean_data, std_data = data_moments(incomes)\n",
    "mean_model2, std_model2 = model_moments(mu_GMM2, sig_GMM2, 0.0, 150000.0)\n",
    "err2 = err_vec(incomes, mu_GMM2, sig_GMM2, 0.0, 150000.0, False).reshape(2,)\n",
    "print('Mean of points =', mean_data, ', Standard deviation of points =', std_data)\n",
    "print('Mean of model =', mean_model2, ', Standard deviation of model =', std_model2)\n",
    "print('Error vector=', err2)\n",
    "print('GMM criterion function: ', results_2.fun)"
   ]
  },
  {
   "cell_type": "markdown",
   "metadata": {},
   "source": [
    "The data moments are vary close to the model moments, and their differences are quite small."
   ]
  },
  {
   "cell_type": "code",
   "execution_count": 48,
   "metadata": {},
   "outputs": [
    {
     "name": "stderr",
     "output_type": "stream",
     "text": [
      "D:\\Anaconda\\lib\\site-packages\\ipykernel_launcher.py:12: RuntimeWarning: divide by zero encountered in true_divide\n",
      "  if sys.path[0] == '':\n",
      "D:\\Anaconda\\lib\\site-packages\\ipykernel_launcher.py:13: RuntimeWarning: divide by zero encountered in log\n",
      "  del sys.path[0]\n",
      "D:\\Anaconda\\lib\\site-packages\\ipykernel_launcher.py:13: RuntimeWarning: invalid value encountered in multiply\n",
      "  del sys.path[0]\n"
     ]
    },
    {
     "data": {
      "image/png": "[encoded data removed]",
      "text/plain": [
       "<Figure size 432x288 with 1 Axes>"
      ]
     },
     "metadata": {
      "needs_background": "light"
     },
     "output_type": "display_data"
    }
   ],
   "source": [
    "# Plot the histogram of the data\n",
    "num_bins = 30\n",
    "count, bins, ignored = plt.hist(incomes, num_bins, density=True, edgecolor='k')\n",
    "plt.title('Annual incomes of students in MACSS', fontsize=20)\n",
    "plt.xlabel(r'Annual incomes')\n",
    "plt.ylabel(r'Percent of incomes')\n",
    "\n",
    "# Plot the estimated GMM PDF with identity matrix\n",
    "dist_pts = np.linspace(0.0, 150000.0, 3000)\n",
    "plt.plot(dist_pts, trunc_lognorm_pdf(dist_pts, mu_GMM1, sig_GMM1, 0.0, 150000.0),\n",
    "         linewidth=2, color='r', label='1: $\\mu_{GMM1}$,$\\sigma_{GMM1}$')\n",
    "plt.legend(loc='upper left')\n",
    "\n",
    "# Plot the estimated GMM PDF with optimal weighting matrix\n",
    "plt.plot(dist_pts, trunc_lognorm_pdf(dist_pts, mu_GMM2, sig_GMM2, 0.0, 150000.0),\n",
    "         linewidth=2, color='g', label='1: $\\mu_{GMM2}$,$\\sigma_{GMM2}$')\n",
    "plt.legend(loc='upper left')\n",
    "plt.show()"
   ]
  },
  {
   "cell_type": "markdown",
   "metadata": {},
   "source": [
    "#### (d)"
   ]
  },
  {
   "cell_type": "code",
   "execution_count": 49,
   "metadata": {},
   "outputs": [],
   "source": [
    "def data_moments3(xvals):\n",
    "    bpct_1_dat = xvals[xvals < 75000].shape[0] / xvals.shape[0]\n",
    "    bpct_2_dat = (xvals[(xvals >=75000) & (xvals < 100000)].shape[0] /\n",
    "                  xvals.shape[0])\n",
    "    bpct_3_dat = xvals[xvals >= 100000].shape[0] / xvals.shape[0]\n",
    "\n",
    "    return bpct_1_dat, bpct_2_dat, bpct_3_dat"
   ]
  },
  {
   "cell_type": "code",
   "execution_count": 50,
   "metadata": {},
   "outputs": [],
   "source": [
    "def model_moments3(mu, sigma, cut_lb, cut_ub):\n",
    "    xfx = lambda x: trunc_lognorm_pdf(x, mu, sigma, cut_lb, cut_ub)\n",
    "    (bpct_1_mod, bp_1_err) = intgr.quad(xfx, 0.0, 75000)\n",
    "    (bpct_2_mod, bp_2_err) = intgr.quad(xfx, 75000, 100000)\n",
    "    (bpct_3_mod, bp_3_err) = intgr.quad(xfx, 100000, 150000)\n",
    "    \n",
    "    return bpct_1_mod, bpct_2_mod, bpct_3_mod"
   ]
  },
  {
   "cell_type": "code",
   "execution_count": 51,
   "metadata": {},
   "outputs": [],
   "source": [
    "def err_vec3(xvals, mu, sigma, cut_lb, cut_ub, simple):\n",
    "    bpct_1_dat, bpct_2_dat, bpct_3_dat= data_moments3(xvals)\n",
    "    moms_data = np.array([[bpct_1_dat], [bpct_2_dat], [bpct_3_dat]])\n",
    "    bpct_1_mod, bpct_2_mod, bpct_3_mod = model_moments3(mu, sigma, cut_lb, cut_ub)\n",
    "    moms_model = np.array([[bpct_1_mod], [bpct_2_mod], [bpct_3_mod]])\n",
    "    if simple:\n",
    "        err_vec = moms_model - moms_data\n",
    "    else:\n",
    "        err_vec = (moms_model - moms_data) / moms_data\n",
    "    \n",
    "    return err_vec"
   ]
  },
  {
   "cell_type": "code",
   "execution_count": 52,
   "metadata": {},
   "outputs": [],
   "source": [
    "def criterion3(params, *args):\n",
    "    mu, sigma = params\n",
    "    xvals, cut_lb, cut_ub, W = args\n",
    "    err = err_vec3(xvals, mu, sigma, cut_lb, cut_ub, simple=False)\n",
    "    crit_val = err.T @ W @ err \n",
    "    \n",
    "    return crit_val"
   ]
  },
  {
   "cell_type": "code",
   "execution_count": 53,
   "metadata": {},
   "outputs": [
    {
     "name": "stdout",
     "output_type": "stream",
     "text": [
      "mu_GMM1_3= 11.33670517992345  sig_GMM1_ 3= 0.21151351610769906\n"
     ]
    }
   ],
   "source": [
    "W_hat1_3 = np.eye(3)\n",
    "gmm_args = (incomes, 0.0, 150000.0, W_hat1_3)\n",
    "results_3 = opt.minimize(criterion3, params_init, args=(gmm_args),\n",
    "                       method='L-BFGS-B', bounds=((1e-10, None), (1e-10, None)))\n",
    "mu_GMM1_3, sig_GMM1_3 = results_3.x\n",
    "print('mu_GMM1_3=', mu_GMM1_3, ' sig_GMM1_ 3=', sig_GMM1_3)"
   ]
  },
  {
   "cell_type": "code",
   "execution_count": 54,
   "metadata": {},
   "outputs": [
    {
     "name": "stdout",
     "output_type": "stream",
     "text": [
      "Data Moments: percent < 75000: 0.3, percent 75000 ~ 100000: 0.5, percent > 100000: 0.2\n",
      "Model Moments: percent < 75000: 0.30000000341304606, percent 75000 ~ 100000: 0.5000000059130668, percent > 100000: 0.19999999067388746\n",
      "Error vector= [ 1.13768202e-08  1.18261336e-08 -4.66305627e-08]\n",
      "GMM criterion function:  [[2.44369886e-15]]\n"
     ]
    }
   ],
   "source": [
    "bpct_1_dat, bpct_2_dat, bpct_3_dat = data_moments3(incomes)\n",
    "bpct_1_model, bpct_2_model, bpct_3_model = model_moments3(mu_GMM1_3, sig_GMM1_3, 0.0, 150000.0)\n",
    "err3 = err_vec3(incomes, mu_GMM1_3, sig_GMM1_3, 0.0, 150000.0, False).reshape(3,)\n",
    "print(\"Data Moments: percent < 75000: {}, percent 75000 ~ 100000: {}, percent > 100000: {}\".format(\n",
    "    bpct_1_dat, bpct_2_dat, bpct_3_dat))\n",
    "print(\"Model Moments: percent < 75000: {}, percent 75000 ~ 100000: {}, percent > 100000: {}\".format(\n",
    "    bpct_1_model, bpct_2_model, bpct_3_model))\n",
    "print('Error vector=', err3)\n",
    "print('GMM criterion function: ', results_3.fun)"
   ]
  },
  {
   "cell_type": "markdown",
   "metadata": {},
   "source": [
    "Here we can tell that the data moments are really close to the model moments."
   ]
  },
  {
   "cell_type": "code",
   "execution_count": 55,
   "metadata": {},
   "outputs": [
    {
     "name": "stderr",
     "output_type": "stream",
     "text": [
      "D:\\Anaconda\\lib\\site-packages\\ipykernel_launcher.py:12: RuntimeWarning: divide by zero encountered in true_divide\n",
      "  if sys.path[0] == '':\n",
      "D:\\Anaconda\\lib\\site-packages\\ipykernel_launcher.py:13: RuntimeWarning: divide by zero encountered in log\n",
      "  del sys.path[0]\n",
      "D:\\Anaconda\\lib\\site-packages\\ipykernel_launcher.py:13: RuntimeWarning: invalid value encountered in multiply\n",
      "  del sys.path[0]\n"
     ]
    },
    {
     "data": {
      "image/png": "[encoded data removed]",
      "text/plain": [
       "<Figure size 432x288 with 1 Axes>"
      ]
     },
     "metadata": {
      "needs_background": "light"
     },
     "output_type": "display_data"
    }
   ],
   "source": [
    "# Plot the histogram of the data\n",
    "num_bins = 30\n",
    "count, bins, ignored = plt.hist(incomes, num_bins, density=True, edgecolor='k')\n",
    "plt.title('Annual incomes of students in MACSS', fontsize=20)\n",
    "plt.xlabel(r'Annual incomes')\n",
    "plt.ylabel(r'Percent of incomes')\n",
    "\n",
    "# Plot the estimated GMM PDF\n",
    "dist_pts = np.linspace(0,  150000.0, 3000)\n",
    "plt.plot(dist_pts, trunc_lognorm_pdf(dist_pts, mu_GMM1_3, sig_GMM1_3, 0.0, 150000.0),\n",
    "         linewidth=2, color='y', label='1: $\\mu_{GMM3}$,$\\sigma_{GMM3}$')\n",
    "plt.legend(loc='upper left')\n",
    "plt.show()"
   ]
  },
  {
   "cell_type": "markdown",
   "metadata": {},
   "source": [
    "#### (e)"
   ]
  },
  {
   "cell_type": "code",
   "execution_count": 56,
   "metadata": {},
   "outputs": [],
   "source": [
    "def get_Err_mat3(pts, mu, sigma, cut_lb, cut_ub, simple=False):\n",
    "\n",
    "    R = 3\n",
    "    N = len(pts)\n",
    "    Err_mat = np.zeros((R, N))\n",
    "    pct_1_mod, pct_2_mod, pct_3_mod = model_moments3(mu, sigma, cut_lb, cut_ub)\n",
    "    if simple:\n",
    "        pts_in_grp1 = pts < 75000\n",
    "        Err_mat[0, :] = pts_in_grp1 - pct_1_mod\n",
    "        pts_in_grp2 = (pts >= 75000) & (pts < 100000)\n",
    "        Err_mat[1, :] = pts_in_grp2 - pct_2_mod\n",
    "        pts_in_grp3 = pts >= 100000\n",
    "        Err_mat[2, :] = pts_in_grp3 - pct_3_mod\n",
    "    else:\n",
    "        pts_in_grp1 = pts < 75000\n",
    "        Err_mat[0, :] = (pts_in_grp1 - pct_1_mod) / pct_1_mod\n",
    "        pts_in_grp2 = (pts >= 75000) & (pts < 100000)\n",
    "        Err_mat[1, :] = (pts_in_grp2 - pct_2_mod) / pct_2_mod\n",
    "        pts_in_grp3 = pts >= 100000\n",
    "        Err_mat[2, :] = (pts_in_grp3 - pct_3_mod) / pct_3_mod\n",
    "    \n",
    "    return Err_mat"
   ]
  },
  {
   "cell_type": "code",
   "execution_count": 57,
   "metadata": {},
   "outputs": [
    {
     "name": "stdout",
     "output_type": "stream",
     "text": [
      "VCV2_3: [[ 2.33333328 -0.99999998 -1.00000004]\n",
      " [-0.99999998  0.99999998 -1.00000003]\n",
      " [-1.00000004 -1.00000003  4.00000037]]\n",
      "W_hat2_3: [[ 0.25761773 -0.14958449 -0.01246537]\n",
      " [-0.14958449  0.11911357 -0.07340719]\n",
      " [-0.01246537 -0.07340719  0.20221605]]\n"
     ]
    }
   ],
   "source": [
    "Err_mat3 = get_Err_mat3(incomes, mu_GMM1_3, sig_GMM1_3, 0.0, 150000.0, False)\n",
    "VCV2_3 = (1 / incomes.shape[0]) * (Err_mat3 @ Err_mat3.T)\n",
    "print(\"VCV2_3: {}\".format(VCV2_3))\n",
    "# We use the pseudo-inverse command here because the VCV matrix is poorly conditioned\n",
    "W_hat2_3 = lin.pinv(VCV2_3)\n",
    "print(\"W_hat2_3: {}\".format(W_hat2_3))"
   ]
  },
  {
   "cell_type": "code",
   "execution_count": 58,
   "metadata": {},
   "outputs": [
    {
     "name": "stdout",
     "output_type": "stream",
     "text": [
      "mu_GMM2_3= 11.33670517992345  sig_GMM2_3= 0.21151351610769906\n"
     ]
    }
   ],
   "source": [
    "params_init = np.array([mu_GMM1_3, sig_GMM1_3])\n",
    "gmm_args = (incomes, 0.0, 150000.0, W_hat2_3)\n",
    "results2_3 = opt.minimize(criterion3, params_init, args=(gmm_args),\n",
    "                          method='L-BFGS-B', bounds=((1e-10, None), (1e-10, None)))\n",
    "mu_GMM2_3, sig_GMM2_3 = results2_3.x\n",
    "print('mu_GMM2_3=', mu_GMM2_3, ' sig_GMM2_3=', sig_GMM2_3)"
   ]
  },
  {
   "cell_type": "code",
   "execution_count": 59,
   "metadata": {},
   "outputs": [
    {
     "name": "stdout",
     "output_type": "stream",
     "text": [
      "Data Moments: percent < 75000: 0.3, percent 75000 ~ 100000: 0.5, percent > 100000: 0.2\n",
      "Model Moments: percent < 75000: 0.30000000341304606, percent 75000 ~ 100000: 0.5000000059130668, percent > 100000: 0.19999999067388746\n",
      "Error vector= [ 1.13768202e-08  1.18261336e-08 -4.66305627e-08]\n",
      "GMM criterion function:  [[5.43640158e-16]]\n"
     ]
    }
   ],
   "source": [
    "bpct_1_dat2, bpct_2_dat2, bpct_3_dat2 = data_moments3(incomes)\n",
    "bpct_1_model2, bpct_2_model2, bpct_3_model2 = model_moments3(mu_GMM2_3, sig_GMM2_3, 0.0, 150000.0)\n",
    "err3 = err_vec3(incomes, mu_GMM2_3, sig_GMM2_3, 0.0, 150000.0, False).reshape(3,)\n",
    "print(\"Data Moments: percent < 75000: {}, percent 75000 ~ 100000: {}, percent > 100000: {}\".format(\n",
    "    bpct_1_dat2, bpct_2_dat2, bpct_3_dat2))\n",
    "print(\"Model Moments: percent < 75000: {}, percent 75000 ~ 100000: {}, percent > 100000: {}\".format(\n",
    "    bpct_1_model2, bpct_2_model2, bpct_3_model2))\n",
    "print('Error vector=', err3)\n",
    "print('GMM criterion function: ', results2_3.fun)"
   ]
  },
  {
   "cell_type": "markdown",
   "metadata": {},
   "source": [
    "Again, these three data moments are almost the same as those three model moments."
   ]
  },
  {
   "cell_type": "code",
   "execution_count": 62,
   "metadata": {},
   "outputs": [
    {
     "name": "stderr",
     "output_type": "stream",
     "text": [
      "D:\\Anaconda\\lib\\site-packages\\ipykernel_launcher.py:12: RuntimeWarning: divide by zero encountered in true_divide\n",
      "  if sys.path[0] == '':\n",
      "D:\\Anaconda\\lib\\site-packages\\ipykernel_launcher.py:13: RuntimeWarning: divide by zero encountered in log\n",
      "  del sys.path[0]\n",
      "D:\\Anaconda\\lib\\site-packages\\ipykernel_launcher.py:13: RuntimeWarning: invalid value encountered in multiply\n",
      "  del sys.path[0]\n"
     ]
    },
    {
     "data": {
      "image/png": "[encoded data removed]",
      "text/plain": [
       "<Figure size 432x288 with 1 Axes>"
      ]
     },
     "metadata": {
      "needs_background": "light"
     },
     "output_type": "display_data"
    }
   ],
   "source": [
    "# Plot the histogram of the data\n",
    "num_bins = 30\n",
    "count, bins, ignored = plt.hist(incomes, num_bins, density=True, edgecolor='k')\n",
    "plt.title('Annual incomes of students in MACSS', fontsize=20)\n",
    "plt.xlabel(r'Annual incomes')\n",
    "plt.ylabel(r'Percent of incomes')\n",
    "\n",
    "# Plot the estimated GMM PDF\n",
    "dist_pts = np.linspace(0,  150000.0, 3000)\n",
    "plt.plot(dist_pts, trunc_lognorm_pdf(dist_pts, mu_GMM2_3, sig_GMM2_3, 0.0, 150000.0),\n",
    "         linewidth=2, color='k', label='1: $\\mu_{GMM3}$,$\\sigma_{GMM3}$')\n",
    "plt.legend(loc='upper left')\n",
    "plt.show()"
   ]
  },
  {
   "cell_type": "markdown",
   "metadata": {},
   "source": [
    "#### (f)"
   ]
  },
  {
   "cell_type": "markdown",
   "metadata": {},
   "source": [
    "GMM criterion values for four methods above are: (b) 6.39927099e-16, (c) 6.77113516e-16, (d) 2.44369935e-15, (e) 5.43640277e-16.\n",
    "Therefore, GMM criterion value using 3 moments and weighted matrix (e) is the smallest. So I think the estimation from (e) fits the data better than the other three estimations."
   ]
  },
  {
   "cell_type": "markdown",
   "metadata": {},
   "source": [
    "### Problem 2"
   ]
  },
  {
   "cell_type": "code",
   "execution_count": 63,
   "metadata": {},
   "outputs": [
    {
     "data": {
      "text/html": [
       "<div>\n",
       "<style scoped>\n",
       "    .dataframe tbody tr th:only-of-type {\n",
       "        vertical-align: middle;\n",
       "    }\n",
       "\n",
       "    .dataframe tbody tr th {\n",
       "        vertical-align: top;\n",
       "    }\n",
       "\n",
       "    .dataframe thead th {\n",
       "        text-align: right;\n",
       "    }\n",
       "</style>\n",
       "<table border=\"1\" class=\"dataframe\">\n",
       "  <thead>\n",
       "    <tr style=\"text-align: right;\">\n",
       "      <th></th>\n",
       "      <th>sick</th>\n",
       "      <th>age</th>\n",
       "      <th>children</th>\n",
       "      <th>avgtemp_winter</th>\n",
       "    </tr>\n",
       "  </thead>\n",
       "  <tbody>\n",
       "    <tr>\n",
       "      <th>0</th>\n",
       "      <td>1.67</td>\n",
       "      <td>57.47</td>\n",
       "      <td>3.04</td>\n",
       "      <td>54.10</td>\n",
       "    </tr>\n",
       "    <tr>\n",
       "      <th>1</th>\n",
       "      <td>0.71</td>\n",
       "      <td>26.77</td>\n",
       "      <td>1.20</td>\n",
       "      <td>36.54</td>\n",
       "    </tr>\n",
       "    <tr>\n",
       "      <th>2</th>\n",
       "      <td>1.39</td>\n",
       "      <td>41.85</td>\n",
       "      <td>2.31</td>\n",
       "      <td>32.38</td>\n",
       "    </tr>\n",
       "    <tr>\n",
       "      <th>3</th>\n",
       "      <td>1.37</td>\n",
       "      <td>51.27</td>\n",
       "      <td>2.46</td>\n",
       "      <td>52.94</td>\n",
       "    </tr>\n",
       "    <tr>\n",
       "      <th>4</th>\n",
       "      <td>1.45</td>\n",
       "      <td>44.22</td>\n",
       "      <td>2.72</td>\n",
       "      <td>45.90</td>\n",
       "    </tr>\n",
       "    <tr>\n",
       "      <th>5</th>\n",
       "      <td>0.62</td>\n",
       "      <td>44.67</td>\n",
       "      <td>1.20</td>\n",
       "      <td>68.60</td>\n",
       "    </tr>\n",
       "    <tr>\n",
       "      <th>6</th>\n",
       "      <td>1.06</td>\n",
       "      <td>27.92</td>\n",
       "      <td>1.84</td>\n",
       "      <td>29.42</td>\n",
       "    </tr>\n",
       "    <tr>\n",
       "      <th>7</th>\n",
       "      <td>1.29</td>\n",
       "      <td>44.87</td>\n",
       "      <td>2.40</td>\n",
       "      <td>50.49</td>\n",
       "    </tr>\n",
       "    <tr>\n",
       "      <th>8</th>\n",
       "      <td>1.05</td>\n",
       "      <td>53.68</td>\n",
       "      <td>1.65</td>\n",
       "      <td>55.12</td>\n",
       "    </tr>\n",
       "    <tr>\n",
       "      <th>9</th>\n",
       "      <td>1.18</td>\n",
       "      <td>39.63</td>\n",
       "      <td>1.96</td>\n",
       "      <td>37.30</td>\n",
       "    </tr>\n",
       "    <tr>\n",
       "      <th>10</th>\n",
       "      <td>1.21</td>\n",
       "      <td>44.73</td>\n",
       "      <td>1.98</td>\n",
       "      <td>41.21</td>\n",
       "    </tr>\n",
       "    <tr>\n",
       "      <th>11</th>\n",
       "      <td>0.63</td>\n",
       "      <td>41.05</td>\n",
       "      <td>1.04</td>\n",
       "      <td>56.73</td>\n",
       "    </tr>\n",
       "    <tr>\n",
       "      <th>12</th>\n",
       "      <td>0.67</td>\n",
       "      <td>30.44</td>\n",
       "      <td>1.08</td>\n",
       "      <td>41.38</td>\n",
       "    </tr>\n",
       "    <tr>\n",
       "      <th>13</th>\n",
       "      <td>0.64</td>\n",
       "      <td>37.77</td>\n",
       "      <td>0.94</td>\n",
       "      <td>47.97</td>\n",
       "    </tr>\n",
       "    <tr>\n",
       "      <th>14</th>\n",
       "      <td>0.86</td>\n",
       "      <td>30.46</td>\n",
       "      <td>1.39</td>\n",
       "      <td>34.33</td>\n",
       "    </tr>\n",
       "    <tr>\n",
       "      <th>15</th>\n",
       "      <td>1.25</td>\n",
       "      <td>46.54</td>\n",
       "      <td>2.10</td>\n",
       "      <td>44.26</td>\n",
       "    </tr>\n",
       "    <tr>\n",
       "      <th>16</th>\n",
       "      <td>0.88</td>\n",
       "      <td>51.92</td>\n",
       "      <td>1.53</td>\n",
       "      <td>65.57</td>\n",
       "    </tr>\n",
       "    <tr>\n",
       "      <th>17</th>\n",
       "      <td>0.12</td>\n",
       "      <td>15.46</td>\n",
       "      <td>0.00</td>\n",
       "      <td>33.46</td>\n",
       "    </tr>\n",
       "    <tr>\n",
       "      <th>18</th>\n",
       "      <td>1.53</td>\n",
       "      <td>59.02</td>\n",
       "      <td>2.67</td>\n",
       "      <td>55.67</td>\n",
       "    </tr>\n",
       "    <tr>\n",
       "      <th>19</th>\n",
       "      <td>1.36</td>\n",
       "      <td>45.63</td>\n",
       "      <td>2.35</td>\n",
       "      <td>42.02</td>\n",
       "    </tr>\n",
       "    <tr>\n",
       "      <th>20</th>\n",
       "      <td>0.73</td>\n",
       "      <td>42.65</td>\n",
       "      <td>1.03</td>\n",
       "      <td>48.89</td>\n",
       "    </tr>\n",
       "    <tr>\n",
       "      <th>21</th>\n",
       "      <td>0.15</td>\n",
       "      <td>28.09</td>\n",
       "      <td>0.00</td>\n",
       "      <td>46.28</td>\n",
       "    </tr>\n",
       "    <tr>\n",
       "      <th>22</th>\n",
       "      <td>0.60</td>\n",
       "      <td>35.63</td>\n",
       "      <td>0.89</td>\n",
       "      <td>47.29</td>\n",
       "    </tr>\n",
       "    <tr>\n",
       "      <th>23</th>\n",
       "      <td>1.28</td>\n",
       "      <td>54.79</td>\n",
       "      <td>2.20</td>\n",
       "      <td>56.59</td>\n",
       "    </tr>\n",
       "    <tr>\n",
       "      <th>24</th>\n",
       "      <td>0.89</td>\n",
       "      <td>42.76</td>\n",
       "      <td>1.29</td>\n",
       "      <td>42.77</td>\n",
       "    </tr>\n",
       "    <tr>\n",
       "      <th>25</th>\n",
       "      <td>0.46</td>\n",
       "      <td>38.50</td>\n",
       "      <td>0.60</td>\n",
       "      <td>53.20</td>\n",
       "    </tr>\n",
       "    <tr>\n",
       "      <th>26</th>\n",
       "      <td>1.03</td>\n",
       "      <td>36.14</td>\n",
       "      <td>1.57</td>\n",
       "      <td>32.03</td>\n",
       "    </tr>\n",
       "    <tr>\n",
       "      <th>27</th>\n",
       "      <td>0.42</td>\n",
       "      <td>20.16</td>\n",
       "      <td>0.55</td>\n",
       "      <td>30.97</td>\n",
       "    </tr>\n",
       "    <tr>\n",
       "      <th>28</th>\n",
       "      <td>0.60</td>\n",
       "      <td>40.30</td>\n",
       "      <td>0.93</td>\n",
       "      <td>54.33</td>\n",
       "    </tr>\n",
       "    <tr>\n",
       "      <th>29</th>\n",
       "      <td>1.86</td>\n",
       "      <td>55.48</td>\n",
       "      <td>3.53</td>\n",
       "      <td>52.19</td>\n",
       "    </tr>\n",
       "    <tr>\n",
       "      <th>...</th>\n",
       "      <td>...</td>\n",
       "      <td>...</td>\n",
       "      <td>...</td>\n",
       "      <td>...</td>\n",
       "    </tr>\n",
       "    <tr>\n",
       "      <th>170</th>\n",
       "      <td>0.91</td>\n",
       "      <td>38.19</td>\n",
       "      <td>1.44</td>\n",
       "      <td>41.68</td>\n",
       "    </tr>\n",
       "    <tr>\n",
       "      <th>171</th>\n",
       "      <td>0.60</td>\n",
       "      <td>37.30</td>\n",
       "      <td>0.85</td>\n",
       "      <td>48.05</td>\n",
       "    </tr>\n",
       "    <tr>\n",
       "      <th>172</th>\n",
       "      <td>1.14</td>\n",
       "      <td>37.87</td>\n",
       "      <td>2.03</td>\n",
       "      <td>41.22</td>\n",
       "    </tr>\n",
       "    <tr>\n",
       "      <th>173</th>\n",
       "      <td>1.15</td>\n",
       "      <td>49.30</td>\n",
       "      <td>1.86</td>\n",
       "      <td>48.58</td>\n",
       "    </tr>\n",
       "    <tr>\n",
       "      <th>174</th>\n",
       "      <td>0.73</td>\n",
       "      <td>41.26</td>\n",
       "      <td>1.15</td>\n",
       "      <td>51.49</td>\n",
       "    </tr>\n",
       "    <tr>\n",
       "      <th>175</th>\n",
       "      <td>0.93</td>\n",
       "      <td>38.37</td>\n",
       "      <td>1.54</td>\n",
       "      <td>43.24</td>\n",
       "    </tr>\n",
       "    <tr>\n",
       "      <th>176</th>\n",
       "      <td>0.88</td>\n",
       "      <td>26.04</td>\n",
       "      <td>1.40</td>\n",
       "      <td>27.01</td>\n",
       "    </tr>\n",
       "    <tr>\n",
       "      <th>177</th>\n",
       "      <td>1.13</td>\n",
       "      <td>32.31</td>\n",
       "      <td>1.85</td>\n",
       "      <td>28.29</td>\n",
       "    </tr>\n",
       "    <tr>\n",
       "      <th>178</th>\n",
       "      <td>0.69</td>\n",
       "      <td>34.83</td>\n",
       "      <td>1.01</td>\n",
       "      <td>41.72</td>\n",
       "    </tr>\n",
       "    <tr>\n",
       "      <th>179</th>\n",
       "      <td>1.23</td>\n",
       "      <td>39.52</td>\n",
       "      <td>2.14</td>\n",
       "      <td>39.48</td>\n",
       "    </tr>\n",
       "    <tr>\n",
       "      <th>180</th>\n",
       "      <td>0.38</td>\n",
       "      <td>44.98</td>\n",
       "      <td>0.41</td>\n",
       "      <td>61.62</td>\n",
       "    </tr>\n",
       "    <tr>\n",
       "      <th>181</th>\n",
       "      <td>1.23</td>\n",
       "      <td>42.15</td>\n",
       "      <td>2.09</td>\n",
       "      <td>39.77</td>\n",
       "    </tr>\n",
       "    <tr>\n",
       "      <th>182</th>\n",
       "      <td>1.03</td>\n",
       "      <td>50.62</td>\n",
       "      <td>1.86</td>\n",
       "      <td>61.72</td>\n",
       "    </tr>\n",
       "    <tr>\n",
       "      <th>183</th>\n",
       "      <td>1.76</td>\n",
       "      <td>45.58</td>\n",
       "      <td>3.14</td>\n",
       "      <td>33.47</td>\n",
       "    </tr>\n",
       "    <tr>\n",
       "      <th>184</th>\n",
       "      <td>0.90</td>\n",
       "      <td>40.81</td>\n",
       "      <td>1.30</td>\n",
       "      <td>40.43</td>\n",
       "    </tr>\n",
       "    <tr>\n",
       "      <th>185</th>\n",
       "      <td>0.32</td>\n",
       "      <td>20.79</td>\n",
       "      <td>0.40</td>\n",
       "      <td>36.06</td>\n",
       "    </tr>\n",
       "    <tr>\n",
       "      <th>186</th>\n",
       "      <td>0.63</td>\n",
       "      <td>28.55</td>\n",
       "      <td>1.09</td>\n",
       "      <td>42.90</td>\n",
       "    </tr>\n",
       "    <tr>\n",
       "      <th>187</th>\n",
       "      <td>1.56</td>\n",
       "      <td>31.54</td>\n",
       "      <td>2.75</td>\n",
       "      <td>19.77</td>\n",
       "    </tr>\n",
       "    <tr>\n",
       "      <th>188</th>\n",
       "      <td>1.06</td>\n",
       "      <td>47.60</td>\n",
       "      <td>1.78</td>\n",
       "      <td>52.17</td>\n",
       "    </tr>\n",
       "    <tr>\n",
       "      <th>189</th>\n",
       "      <td>1.16</td>\n",
       "      <td>40.44</td>\n",
       "      <td>1.83</td>\n",
       "      <td>34.96</td>\n",
       "    </tr>\n",
       "    <tr>\n",
       "      <th>190</th>\n",
       "      <td>0.34</td>\n",
       "      <td>40.94</td>\n",
       "      <td>0.46</td>\n",
       "      <td>62.25</td>\n",
       "    </tr>\n",
       "    <tr>\n",
       "      <th>191</th>\n",
       "      <td>0.33</td>\n",
       "      <td>43.23</td>\n",
       "      <td>0.35</td>\n",
       "      <td>62.18</td>\n",
       "    </tr>\n",
       "    <tr>\n",
       "      <th>192</th>\n",
       "      <td>1.98</td>\n",
       "      <td>61.08</td>\n",
       "      <td>3.64</td>\n",
       "      <td>52.23</td>\n",
       "    </tr>\n",
       "    <tr>\n",
       "      <th>193</th>\n",
       "      <td>0.61</td>\n",
       "      <td>46.62</td>\n",
       "      <td>0.89</td>\n",
       "      <td>59.88</td>\n",
       "    </tr>\n",
       "    <tr>\n",
       "      <th>194</th>\n",
       "      <td>1.00</td>\n",
       "      <td>53.63</td>\n",
       "      <td>1.70</td>\n",
       "      <td>62.96</td>\n",
       "    </tr>\n",
       "    <tr>\n",
       "      <th>195</th>\n",
       "      <td>0.53</td>\n",
       "      <td>30.56</td>\n",
       "      <td>0.74</td>\n",
       "      <td>41.76</td>\n",
       "    </tr>\n",
       "    <tr>\n",
       "      <th>196</th>\n",
       "      <td>0.86</td>\n",
       "      <td>33.97</td>\n",
       "      <td>1.40</td>\n",
       "      <td>39.10</td>\n",
       "    </tr>\n",
       "    <tr>\n",
       "      <th>197</th>\n",
       "      <td>1.39</td>\n",
       "      <td>44.00</td>\n",
       "      <td>2.45</td>\n",
       "      <td>40.95</td>\n",
       "    </tr>\n",
       "    <tr>\n",
       "      <th>198</th>\n",
       "      <td>0.72</td>\n",
       "      <td>22.30</td>\n",
       "      <td>1.03</td>\n",
       "      <td>23.14</td>\n",
       "    </tr>\n",
       "    <tr>\n",
       "      <th>199</th>\n",
       "      <td>1.29</td>\n",
       "      <td>39.83</td>\n",
       "      <td>2.35</td>\n",
       "      <td>42.11</td>\n",
       "    </tr>\n",
       "  </tbody>\n",
       "</table>\n",
       "<p>200 rows × 4 columns</p>\n",
       "</div>"
      ],
      "text/plain": [
       "     sick    age  children  avgtemp_winter\n",
       "0    1.67  57.47      3.04           54.10\n",
       "1    0.71  26.77      1.20           36.54\n",
       "2    1.39  41.85      2.31           32.38\n",
       "3    1.37  51.27      2.46           52.94\n",
       "4    1.45  44.22      2.72           45.90\n",
       "5    0.62  44.67      1.20           68.60\n",
       "6    1.06  27.92      1.84           29.42\n",
       "7    1.29  44.87      2.40           50.49\n",
       "8    1.05  53.68      1.65           55.12\n",
       "9    1.18  39.63      1.96           37.30\n",
       "10   1.21  44.73      1.98           41.21\n",
       "11   0.63  41.05      1.04           56.73\n",
       "12   0.67  30.44      1.08           41.38\n",
       "13   0.64  37.77      0.94           47.97\n",
       "14   0.86  30.46      1.39           34.33\n",
       "15   1.25  46.54      2.10           44.26\n",
       "16   0.88  51.92      1.53           65.57\n",
       "17   0.12  15.46      0.00           33.46\n",
       "18   1.53  59.02      2.67           55.67\n",
       "19   1.36  45.63      2.35           42.02\n",
       "20   0.73  42.65      1.03           48.89\n",
       "21   0.15  28.09      0.00           46.28\n",
       "22   0.60  35.63      0.89           47.29\n",
       "23   1.28  54.79      2.20           56.59\n",
       "24   0.89  42.76      1.29           42.77\n",
       "25   0.46  38.50      0.60           53.20\n",
       "26   1.03  36.14      1.57           32.03\n",
       "27   0.42  20.16      0.55           30.97\n",
       "28   0.60  40.30      0.93           54.33\n",
       "29   1.86  55.48      3.53           52.19\n",
       "..    ...    ...       ...             ...\n",
       "170  0.91  38.19      1.44           41.68\n",
       "171  0.60  37.30      0.85           48.05\n",
       "172  1.14  37.87      2.03           41.22\n",
       "173  1.15  49.30      1.86           48.58\n",
       "174  0.73  41.26      1.15           51.49\n",
       "175  0.93  38.37      1.54           43.24\n",
       "176  0.88  26.04      1.40           27.01\n",
       "177  1.13  32.31      1.85           28.29\n",
       "178  0.69  34.83      1.01           41.72\n",
       "179  1.23  39.52      2.14           39.48\n",
       "180  0.38  44.98      0.41           61.62\n",
       "181  1.23  42.15      2.09           39.77\n",
       "182  1.03  50.62      1.86           61.72\n",
       "183  1.76  45.58      3.14           33.47\n",
       "184  0.90  40.81      1.30           40.43\n",
       "185  0.32  20.79      0.40           36.06\n",
       "186  0.63  28.55      1.09           42.90\n",
       "187  1.56  31.54      2.75           19.77\n",
       "188  1.06  47.60      1.78           52.17\n",
       "189  1.16  40.44      1.83           34.96\n",
       "190  0.34  40.94      0.46           62.25\n",
       "191  0.33  43.23      0.35           62.18\n",
       "192  1.98  61.08      3.64           52.23\n",
       "193  0.61  46.62      0.89           59.88\n",
       "194  1.00  53.63      1.70           62.96\n",
       "195  0.53  30.56      0.74           41.76\n",
       "196  0.86  33.97      1.40           39.10\n",
       "197  1.39  44.00      2.45           40.95\n",
       "198  0.72  22.30      1.03           23.14\n",
       "199  1.29  39.83      2.35           42.11\n",
       "\n",
       "[200 rows x 4 columns]"
      ]
     },
     "execution_count": 63,
     "metadata": {},
     "output_type": "execute_result"
    }
   ],
   "source": [
    "data = pd.read_csv(\"sick.txt\")\n",
    "data"
   ]
  },
  {
   "cell_type": "markdown",
   "metadata": {},
   "source": [
    "#### (a)"
   ]
  },
  {
   "cell_type": "code",
   "execution_count": 64,
   "metadata": {},
   "outputs": [],
   "source": [
    "sick = data['sick']\n",
    "age = data['age']\n",
    "children = data['children']\n",
    "temp_winter = data['avgtemp_winter']"
   ]
  },
  {
   "cell_type": "code",
   "execution_count": 65,
   "metadata": {},
   "outputs": [],
   "source": [
    "def err_vec(beta_0, beta_1, beta_2, beta_3, sick, age, children, temp_winter):\n",
    "    data_moment = sick\n",
    "    model_moment = beta_0 + beta_1 * age + beta_2 * children + beta_3 * temp_winter\n",
    "    err_vec = model_moment - data_moment\n",
    "    \n",
    "    return err_vec"
   ]
  },
  {
   "cell_type": "code",
   "execution_count": 66,
   "metadata": {},
   "outputs": [],
   "source": [
    "def criterion(params, *args):\n",
    "    beta_0, beta_1, beta_2, beta_3 = params\n",
    "    sick, age, children, temp_winter, W = args\n",
    "    err = err_vec(beta_0, beta_1, beta_2, beta_3, sick, age, children, temp_winter)\n",
    "    \n",
    "    crit_val = np.array(err.T) @ W @ np.array(err) \n",
    "    \n",
    "    return crit_val"
   ]
  },
  {
   "cell_type": "code",
   "execution_count": 67,
   "metadata": {},
   "outputs": [
    {
     "data": {
      "text/plain": [
       "      fun: 0.0018212896212793988\n",
       " hess_inv: <4x4 LbfgsInvHessProduct with dtype=float64>\n",
       "      jac: array([-4.46780633e-05, -4.95789716e-04, -2.01685695e-04,  2.51464648e-04])\n",
       "  message: b'CONVERGENCE: REL_REDUCTION_OF_F_<=_FACTR*EPSMCH'\n",
       "     nfev: 125\n",
       "      nit: 17\n",
       "   status: 0\n",
       "  success: True\n",
       "        x: array([ 0.25164368,  0.01293369,  0.40049871, -0.0099918 ])"
      ]
     },
     "execution_count": 67,
     "metadata": {},
     "output_type": "execute_result"
    }
   ],
   "source": [
    "beta_0_init = 0.1\n",
    "beta_1_init = 0\n",
    "beta_2_init = 0\n",
    "beta_3_init = 0\n",
    "W_hat = np.eye(data.shape[0])\n",
    "params_init = np.array([beta_0_init, beta_1_init, beta_2_init, beta_3_init])\n",
    "args_GMM = (sick, age, children, temp_winter, W_hat)\n",
    "results = opt.minimize(criterion, params_init, args=(args_GMM), method='L-BFGS-B')\n",
    "results"
   ]
  },
  {
   "cell_type": "code",
   "execution_count": 70,
   "metadata": {},
   "outputs": [
    {
     "name": "stdout",
     "output_type": "stream",
     "text": [
      "beta_0 = 0.2516436843726944\n",
      "beta_1 = 0.012933693048507446\n",
      "beta_2 = 0.4004987087341473\n",
      "beta_3 = -0.009991804074448734\n",
      "The GMM criterion function value = 0.0018212896212793988\n"
     ]
    }
   ],
   "source": [
    "beta_0_MLE, beta_1_MLE, beta_2_MLE, beta_3_MLE = results.x\n",
    "\n",
    "print(\"beta_0 = {}\".format(beta_0_MLE))\n",
    "print(\"beta_1 = {}\".format(beta_1_MLE))\n",
    "print(\"beta_2 = {}\".format(beta_2_MLE))\n",
    "print(\"beta_3 = {}\".format(beta_3_MLE))\n",
    "print(\"The GMM criterion function value = {}\".format(results.fun))"
   ]
  },
  {
   "cell_type": "code",
   "execution_count": null,
   "metadata": {},
   "outputs": [],
   "source": []
  }
 ],
 "metadata": {
  "kernelspec": {
   "display_name": "Python 3",
   "language": "python",
   "name": "python3"
  },
  "language_info": {
   "codemirror_mode": {
    "name": "ipython",
    "version": 3
   },
   "file_extension": ".py",
   "mimetype": "text/x-python",
   "name": "python",
   "nbconvert_exporter": "python",
   "pygments_lexer": "ipython3",
   "version": "3.7.1"
  }
 },
 "nbformat": 4,
 "nbformat_minor": 2
}
